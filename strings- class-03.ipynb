{
 "cells": [
  {
   "cell_type": "code",
   "execution_count": 3,
   "id": "a742daca",
   "metadata": {},
   "outputs": [],
   "source": [
    "a=20"
   ]
  },
  {
   "cell_type": "code",
   "execution_count": 4,
   "id": "bf3ddff5",
   "metadata": {},
   "outputs": [
    {
     "data": {
      "text/plain": [
       "int"
      ]
     },
     "execution_count": 4,
     "metadata": {},
     "output_type": "execute_result"
    }
   ],
   "source": [
    "type(a)"
   ]
  },
  {
   "cell_type": "code",
   "execution_count": 5,
   "id": "05e805c5",
   "metadata": {},
   "outputs": [
    {
     "name": "stdout",
     "output_type": "stream",
     "text": [
      "20\n"
     ]
    }
   ],
   "source": [
    "print(a)\n"
   ]
  },
  {
   "cell_type": "code",
   "execution_count": 6,
   "id": "49e2037d",
   "metadata": {},
   "outputs": [
    {
     "data": {
      "text/plain": [
       "float"
      ]
     },
     "execution_count": 6,
     "metadata": {},
     "output_type": "execute_result"
    }
   ],
   "source": [
    "b=25.55\n",
    "type(b)"
   ]
  },
  {
   "cell_type": "code",
   "execution_count": 7,
   "id": "ce3ca2c2",
   "metadata": {},
   "outputs": [
    {
     "ename": "SyntaxError",
     "evalue": "invalid syntax (443993096.py, line 1)",
     "output_type": "error",
     "traceback": [
      "\u001b[1;36m  Input \u001b[1;32mIn [7]\u001b[1;36m\u001b[0m\n\u001b[1;33m    y=60+8x\u001b[0m\n\u001b[1;37m          ^\u001b[0m\n\u001b[1;31mSyntaxError\u001b[0m\u001b[1;31m:\u001b[0m invalid syntax\n"
     ]
    }
   ],
   "source": [
    "y=60+8x\n",
    "type(y)"
   ]
  },
  {
   "cell_type": "code",
   "execution_count": 9,
   "id": "bf67d66a",
   "metadata": {},
   "outputs": [
    {
     "ename": "SyntaxError",
     "evalue": "invalid syntax (1191492844.py, line 1)",
     "output_type": "error",
     "traceback": [
      "\u001b[1;36m  Input \u001b[1;32mIn [9]\u001b[1;36m\u001b[0m\n\u001b[1;33m    z = 90+6x\u001b[0m\n\u001b[1;37m            ^\u001b[0m\n\u001b[1;31mSyntaxError\u001b[0m\u001b[1;31m:\u001b[0m invalid syntax\n"
     ]
    }
   ],
   "source": [
    "z = 90+6x\n",
    "\n",
    "type(z)"
   ]
  },
  {
   "cell_type": "code",
   "execution_count": 10,
   "id": "bb10b35c",
   "metadata": {},
   "outputs": [
    {
     "ename": "SyntaxError",
     "evalue": "invalid syntax (423950312.py, line 1)",
     "output_type": "error",
     "traceback": [
      "\u001b[1;36m  Input \u001b[1;32mIn [10]\u001b[1;36m\u001b[0m\n\u001b[1;33m    z=65+12a\u001b[0m\n\u001b[1;37m           ^\u001b[0m\n\u001b[1;31mSyntaxError\u001b[0m\u001b[1;31m:\u001b[0m invalid syntax\n"
     ]
    }
   ],
   "source": [
    "z=65+12a\n",
    "type(z)"
   ]
  },
  {
   "cell_type": "code",
   "execution_count": 12,
   "id": "9685ea40",
   "metadata": {},
   "outputs": [
    {
     "ename": "SyntaxError",
     "evalue": "invalid syntax (51224947.py, line 1)",
     "output_type": "error",
     "traceback": [
      "\u001b[1;36m  Input \u001b[1;32mIn [12]\u001b[1;36m\u001b[0m\n\u001b[1;33m    c=65+12b\u001b[0m\n\u001b[1;37m           ^\u001b[0m\n\u001b[1;31mSyntaxError\u001b[0m\u001b[1;31m:\u001b[0m invalid syntax\n"
     ]
    }
   ],
   "source": [
    "c=65+12b\n",
    "type(c)\n",
    "print(c)"
   ]
  },
  {
   "cell_type": "markdown",
   "id": "5f0804d8",
   "metadata": {},
   "source": [
    "##  Strings"
   ]
  },
  {
   "cell_type": "code",
   "execution_count": 13,
   "id": "afc0ed00",
   "metadata": {},
   "outputs": [
    {
     "name": "stdout",
     "output_type": "stream",
     "text": [
      "Hello World\n"
     ]
    }
   ],
   "source": [
    "print(\"Hello World\")"
   ]
  },
  {
   "cell_type": "code",
   "execution_count": null,
   "id": "e205ad20",
   "metadata": {},
   "outputs": [],
   "source": [
    "first str='Anvi'\n",
    "second str='is'\n",
    "third str='the'\n",
    "fourth str='best'"
   ]
  },
  {
   "cell_type": "code",
   "execution_count": 14,
   "id": "13ae2988",
   "metadata": {},
   "outputs": [
    {
     "data": {
      "text/plain": [
       "str"
      ]
     },
     "execution_count": 14,
     "metadata": {},
     "output_type": "execute_result"
    }
   ],
   "source": [
    "type (\"first str\")"
   ]
  },
  {
   "cell_type": "code",
   "execution_count": 15,
   "id": "b094a1fc",
   "metadata": {},
   "outputs": [
    {
     "name": "stdout",
     "output_type": "stream",
     "text": [
      "first strsecond strthird strfourth str\n"
     ]
    }
   ],
   "source": [
    "print('first str'+'second str'+'third str'+'fourth str')"
   ]
  },
  {
   "cell_type": "code",
   "execution_count": 16,
   "id": "bcfe2cb4",
   "metadata": {},
   "outputs": [
    {
     "ename": "SyntaxError",
     "evalue": "invalid syntax (1178066633.py, line 1)",
     "output_type": "error",
     "traceback": [
      "\u001b[1;36m  Input \u001b[1;32mIn [16]\u001b[1;36m\u001b[0m\n\u001b[1;33m    print(first str + second str + third str + fourth str)\u001b[0m\n\u001b[1;37m                ^\u001b[0m\n\u001b[1;31mSyntaxError\u001b[0m\u001b[1;31m:\u001b[0m invalid syntax\n"
     ]
    }
   ],
   "source": [
    "print(first str + second str + third str + fourth str)"
   ]
  },
  {
   "cell_type": "code",
   "execution_count": 40,
   "id": "706fa5b5",
   "metadata": {},
   "outputs": [],
   "source": [
    "first_str='Anvi' \n",
    "second_str='is'\n",
    "third_str='the'\n",
    "fourth_str='best'"
   ]
  },
  {
   "cell_type": "code",
   "execution_count": 41,
   "id": "96b4f9df",
   "metadata": {},
   "outputs": [
    {
     "name": "stdout",
     "output_type": "stream",
     "text": [
      "Anviisthebest\n"
     ]
    }
   ],
   "source": [
    "print(first_str+second_str+third_str+fourth_str)"
   ]
  },
  {
   "cell_type": "code",
   "execution_count": 42,
   "id": "ef4bb04e",
   "metadata": {},
   "outputs": [
    {
     "name": "stdout",
     "output_type": "stream",
     "text": [
      "Anviisthebest\n"
     ]
    }
   ],
   "source": [
    "print(first_str + second_str + third_str + fourth_str)"
   ]
  },
  {
   "cell_type": "code",
   "execution_count": 43,
   "id": "fa751fa6",
   "metadata": {},
   "outputs": [],
   "source": [
    "first_str=  \" Anvi \"\n",
    "seconnd_str=  \" is the \"\n",
    "third_str=  \" best \""
   ]
  },
  {
   "cell_type": "code",
   "execution_count": 39,
   "id": "8d0132f3",
   "metadata": {},
   "outputs": [
    {
     "name": "stdout",
     "output_type": "stream",
     "text": [
      " Anvi  is the  best \n"
     ]
    }
   ],
   "source": [
    "print( first_str + seconnd_str + third_str )"
   ]
  },
  {
   "cell_type": "code",
   "execution_count": 33,
   "id": "fc817c65",
   "metadata": {},
   "outputs": [],
   "source": [
    "frist_string= 'india ' \n",
    "second_string= 'is '\n",
    "third_string= 'our '\n",
    "fourth_string= 'country '"
   ]
  },
  {
   "cell_type": "code",
   "execution_count": 34,
   "id": "0b35ace5",
   "metadata": {},
   "outputs": [],
   "source": [
    "total_string = frist_string+second_string+third_string+fourth_string"
   ]
  },
  {
   "cell_type": "code",
   "execution_count": 35,
   "id": "4ad89939",
   "metadata": {},
   "outputs": [
    {
     "name": "stdout",
     "output_type": "stream",
     "text": [
      "india is our country \n"
     ]
    }
   ],
   "source": [
    "print(total_string)"
   ]
  },
  {
   "cell_type": "code",
   "execution_count": 44,
   "id": "215b3fd1",
   "metadata": {},
   "outputs": [
    {
     "name": "stdout",
     "output_type": "stream",
     "text": [
      "wow wounderfull job.\n"
     ]
    }
   ],
   "source": [
    "print('wow '+'wounderfull '+'job.')"
   ]
  },
  {
   "cell_type": "code",
   "execution_count": 45,
   "id": "3c901458",
   "metadata": {},
   "outputs": [
    {
     "ename": "TypeError",
     "evalue": "can't multiply sequence by non-int of type 'str'",
     "output_type": "error",
     "traceback": [
      "\u001b[1;31m---------------------------------------------------------------------------\u001b[0m",
      "\u001b[1;31mTypeError\u001b[0m                                 Traceback (most recent call last)",
      "Input \u001b[1;32mIn [45]\u001b[0m, in \u001b[0;36m<cell line: 1>\u001b[1;34m()\u001b[0m\n\u001b[1;32m----> 1\u001b[0m \u001b[38;5;28mprint\u001b[39m(\u001b[38;5;124;43m'\u001b[39;49m\u001b[38;5;124;43mday\u001b[39;49m\u001b[38;5;124;43m'\u001b[39;49m\u001b[38;5;241;43m*\u001b[39;49m\u001b[38;5;124;43m'\u001b[39;49m\u001b[38;5;124;43m5\u001b[39;49m\u001b[38;5;124;43m'\u001b[39;49m)\n",
      "\u001b[1;31mTypeError\u001b[0m: can't multiply sequence by non-int of type 'str'"
     ]
    }
   ],
   "source": [
    "print('day'*'5')"
   ]
  },
  {
   "cell_type": "code",
   "execution_count": 46,
   "id": "6f989bca",
   "metadata": {},
   "outputs": [
    {
     "name": "stdout",
     "output_type": "stream",
     "text": [
      "day day day day day \n"
     ]
    }
   ],
   "source": [
    "print('day '*5)"
   ]
  },
  {
   "cell_type": "code",
   "execution_count": 47,
   "id": "fd961d49",
   "metadata": {},
   "outputs": [
    {
     "ename": "TypeError",
     "evalue": "can only concatenate str (not \"int\") to str",
     "output_type": "error",
     "traceback": [
      "\u001b[1;31m---------------------------------------------------------------------------\u001b[0m",
      "\u001b[1;31mTypeError\u001b[0m                                 Traceback (most recent call last)",
      "Input \u001b[1;32mIn [47]\u001b[0m, in \u001b[0;36m<cell line: 1>\u001b[1;34m()\u001b[0m\n\u001b[1;32m----> 1\u001b[0m \u001b[38;5;28mprint\u001b[39m(\u001b[38;5;124;43m'\u001b[39;49m\u001b[38;5;124;43mday\u001b[39;49m\u001b[38;5;124;43m'\u001b[39;49m\u001b[38;5;241;43m+\u001b[39;49m\u001b[38;5;241;43m2\u001b[39;49m)\n",
      "\u001b[1;31mTypeError\u001b[0m: can only concatenate str (not \"int\") to str"
     ]
    }
   ],
   "source": [
    "print('day'+2)"
   ]
  },
  {
   "cell_type": "code",
   "execution_count": 48,
   "id": "3112c1e3",
   "metadata": {},
   "outputs": [
    {
     "ename": "NameError",
     "evalue": "name 'day' is not defined",
     "output_type": "error",
     "traceback": [
      "\u001b[1;31m---------------------------------------------------------------------------\u001b[0m",
      "\u001b[1;31mNameError\u001b[0m                                 Traceback (most recent call last)",
      "Input \u001b[1;32mIn [48]\u001b[0m, in \u001b[0;36m<cell line: 1>\u001b[1;34m()\u001b[0m\n\u001b[1;32m----> 1\u001b[0m \u001b[38;5;28mprint\u001b[39m(\u001b[43mday\u001b[49m \u001b[38;5;241m+\u001b[39m\u001b[38;5;241m2\u001b[39m)\n",
      "\u001b[1;31mNameError\u001b[0m: name 'day' is not defined"
     ]
    }
   ],
   "source": [
    "print(day +2)"
   ]
  },
  {
   "cell_type": "code",
   "execution_count": 50,
   "id": "a3ea8baf",
   "metadata": {},
   "outputs": [
    {
     "name": "stdout",
     "output_type": "stream",
     "text": [
      "Day 2\n"
     ]
    }
   ],
   "source": [
    "print('Day '+str(2))"
   ]
  },
  {
   "cell_type": "code",
   "execution_count": 53,
   "id": "53f46d93",
   "metadata": {},
   "outputs": [],
   "source": [
    "#print(int('Day ') + 2)"
   ]
  },
  {
   "cell_type": "code",
   "execution_count": null,
   "id": "72ab0914",
   "metadata": {},
   "outputs": [],
   "source": []
  }
 ],
 "metadata": {
  "kernelspec": {
   "display_name": "Python 3 (ipykernel)",
   "language": "python",
   "name": "python3"
  },
  "language_info": {
   "codemirror_mode": {
    "name": "ipython",
    "version": 3
   },
   "file_extension": ".py",
   "mimetype": "text/x-python",
   "name": "python",
   "nbconvert_exporter": "python",
   "pygments_lexer": "ipython3",
   "version": "3.9.12"
  }
 },
 "nbformat": 4,
 "nbformat_minor": 5
}
