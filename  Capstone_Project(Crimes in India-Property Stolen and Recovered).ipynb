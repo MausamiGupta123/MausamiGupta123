{
 "cells": [
  {
   "cell_type": "code",
   "execution_count": 1,
   "id": "f3bb08cb",
   "metadata": {},
   "outputs": [],
   "source": [
    "import numpy as np \n",
    "import seaborn as sns\n",
    "import pandas as pd\n",
    "import matplotlib.pyplot as plt\n",
    "import os"
   ]
  },
  {
   "cell_type": "code",
   "execution_count": 2,
   "id": "b9bdc287",
   "metadata": {},
   "outputs": [
    {
     "data": {
      "text/html": [
       "<div>\n",
       "<style scoped>\n",
       "    .dataframe tbody tr th:only-of-type {\n",
       "        vertical-align: middle;\n",
       "    }\n",
       "\n",
       "    .dataframe tbody tr th {\n",
       "        vertical-align: top;\n",
       "    }\n",
       "\n",
       "    .dataframe thead th {\n",
       "        text-align: right;\n",
       "    }\n",
       "</style>\n",
       "<table border=\"1\" class=\"dataframe\">\n",
       "  <thead>\n",
       "    <tr style=\"text-align: right;\">\n",
       "      <th></th>\n",
       "      <th>Area_Name</th>\n",
       "      <th>Year</th>\n",
       "      <th>Group_Name</th>\n",
       "      <th>Sub_Group_Name</th>\n",
       "      <th>Cases_Property_Recovered</th>\n",
       "      <th>Cases_Property_Stolen</th>\n",
       "      <th>Value_of_Property_Recovered</th>\n",
       "      <th>Value_of_Property_Stolen</th>\n",
       "    </tr>\n",
       "  </thead>\n",
       "  <tbody>\n",
       "    <tr>\n",
       "      <th>0</th>\n",
       "      <td>Andaman &amp; Nicobar Islands</td>\n",
       "      <td>2001</td>\n",
       "      <td>Cattle - Property</td>\n",
       "      <td>2. Cattle</td>\n",
       "      <td>0</td>\n",
       "      <td>1</td>\n",
       "      <td>0</td>\n",
       "      <td>1000</td>\n",
       "    </tr>\n",
       "    <tr>\n",
       "      <th>1</th>\n",
       "      <td>Andhra Pradesh</td>\n",
       "      <td>2001</td>\n",
       "      <td>Cattle - Property</td>\n",
       "      <td>2. Cattle</td>\n",
       "      <td>448</td>\n",
       "      <td>580</td>\n",
       "      <td>6490596</td>\n",
       "      <td>7233876</td>\n",
       "    </tr>\n",
       "    <tr>\n",
       "      <th>2</th>\n",
       "      <td>Arunachal Pradesh</td>\n",
       "      <td>2001</td>\n",
       "      <td>Cattle - Property</td>\n",
       "      <td>2. Cattle</td>\n",
       "      <td>22</td>\n",
       "      <td>34</td>\n",
       "      <td>135500</td>\n",
       "      <td>704500</td>\n",
       "    </tr>\n",
       "    <tr>\n",
       "      <th>3</th>\n",
       "      <td>Assam</td>\n",
       "      <td>2001</td>\n",
       "      <td>Cattle - Property</td>\n",
       "      <td>2. Cattle</td>\n",
       "      <td>149</td>\n",
       "      <td>322</td>\n",
       "      <td>683350</td>\n",
       "      <td>1816386</td>\n",
       "    </tr>\n",
       "    <tr>\n",
       "      <th>4</th>\n",
       "      <td>Bihar</td>\n",
       "      <td>2001</td>\n",
       "      <td>Cattle - Property</td>\n",
       "      <td>2. Cattle</td>\n",
       "      <td>144</td>\n",
       "      <td>334</td>\n",
       "      <td>896019</td>\n",
       "      <td>1911068</td>\n",
       "    </tr>\n",
       "    <tr>\n",
       "      <th>...</th>\n",
       "      <td>...</td>\n",
       "      <td>...</td>\n",
       "      <td>...</td>\n",
       "      <td>...</td>\n",
       "      <td>...</td>\n",
       "      <td>...</td>\n",
       "      <td>...</td>\n",
       "      <td>...</td>\n",
       "    </tr>\n",
       "    <tr>\n",
       "      <th>4545</th>\n",
       "      <td>Tamil Nadu</td>\n",
       "      <td>2010</td>\n",
       "      <td>Total Property(Nature)</td>\n",
       "      <td>Total Property Stolen &amp; Recovered</td>\n",
       "      <td>16125</td>\n",
       "      <td>21509</td>\n",
       "      <td>660311804</td>\n",
       "      <td>1317919190</td>\n",
       "    </tr>\n",
       "    <tr>\n",
       "      <th>4546</th>\n",
       "      <td>Tripura</td>\n",
       "      <td>2010</td>\n",
       "      <td>Total Property(Nature)</td>\n",
       "      <td>Total Property Stolen &amp; Recovered</td>\n",
       "      <td>192</td>\n",
       "      <td>879</td>\n",
       "      <td>5666102</td>\n",
       "      <td>33032746</td>\n",
       "    </tr>\n",
       "    <tr>\n",
       "      <th>4547</th>\n",
       "      <td>Uttar Pradesh</td>\n",
       "      <td>2010</td>\n",
       "      <td>Total Property(Nature)</td>\n",
       "      <td>Total Property Stolen &amp; Recovered</td>\n",
       "      <td>9130</td>\n",
       "      <td>35068</td>\n",
       "      <td>577591772</td>\n",
       "      <td>1442670414</td>\n",
       "    </tr>\n",
       "    <tr>\n",
       "      <th>4548</th>\n",
       "      <td>Uttarakhand</td>\n",
       "      <td>2010</td>\n",
       "      <td>Total Property(Nature)</td>\n",
       "      <td>Total Property Stolen &amp; Recovered</td>\n",
       "      <td>964</td>\n",
       "      <td>2234</td>\n",
       "      <td>47135685</td>\n",
       "      <td>123398840</td>\n",
       "    </tr>\n",
       "    <tr>\n",
       "      <th>4549</th>\n",
       "      <td>West Bengal</td>\n",
       "      <td>2010</td>\n",
       "      <td>Total Property(Nature)</td>\n",
       "      <td>Total Property Stolen &amp; Recovered</td>\n",
       "      <td>4548</td>\n",
       "      <td>23759</td>\n",
       "      <td>1168242161</td>\n",
       "      <td>5015168687</td>\n",
       "    </tr>\n",
       "  </tbody>\n",
       "</table>\n",
       "<p>4550 rows × 8 columns</p>\n",
       "</div>"
      ],
      "text/plain": [
       "                      Area_Name  Year              Group_Name  \\\n",
       "0     Andaman & Nicobar Islands  2001       Cattle - Property   \n",
       "1                Andhra Pradesh  2001       Cattle - Property   \n",
       "2             Arunachal Pradesh  2001       Cattle - Property   \n",
       "3                         Assam  2001       Cattle - Property   \n",
       "4                         Bihar  2001       Cattle - Property   \n",
       "...                         ...   ...                     ...   \n",
       "4545                 Tamil Nadu  2010  Total Property(Nature)   \n",
       "4546                    Tripura  2010  Total Property(Nature)   \n",
       "4547              Uttar Pradesh  2010  Total Property(Nature)   \n",
       "4548                Uttarakhand  2010  Total Property(Nature)   \n",
       "4549                West Bengal  2010  Total Property(Nature)   \n",
       "\n",
       "                         Sub_Group_Name  Cases_Property_Recovered  \\\n",
       "0                             2. Cattle                         0   \n",
       "1                             2. Cattle                       448   \n",
       "2                             2. Cattle                        22   \n",
       "3                             2. Cattle                       149   \n",
       "4                             2. Cattle                       144   \n",
       "...                                 ...                       ...   \n",
       "4545  Total Property Stolen & Recovered                     16125   \n",
       "4546  Total Property Stolen & Recovered                       192   \n",
       "4547  Total Property Stolen & Recovered                      9130   \n",
       "4548  Total Property Stolen & Recovered                       964   \n",
       "4549  Total Property Stolen & Recovered                      4548   \n",
       "\n",
       "      Cases_Property_Stolen  Value_of_Property_Recovered  \\\n",
       "0                         1                            0   \n",
       "1                       580                      6490596   \n",
       "2                        34                       135500   \n",
       "3                       322                       683350   \n",
       "4                       334                       896019   \n",
       "...                     ...                          ...   \n",
       "4545                  21509                    660311804   \n",
       "4546                    879                      5666102   \n",
       "4547                  35068                    577591772   \n",
       "4548                   2234                     47135685   \n",
       "4549                  23759                   1168242161   \n",
       "\n",
       "      Value_of_Property_Stolen  \n",
       "0                         1000  \n",
       "1                      7233876  \n",
       "2                       704500  \n",
       "3                      1816386  \n",
       "4                      1911068  \n",
       "...                        ...  \n",
       "4545                1317919190  \n",
       "4546                  33032746  \n",
       "4547                1442670414  \n",
       "4548                 123398840  \n",
       "4549                5015168687  \n",
       "\n",
       "[4550 rows x 8 columns]"
      ]
     },
     "execution_count": 2,
     "metadata": {},
     "output_type": "execute_result"
    }
   ],
   "source": [
    "property=pd.read_csv(\"11_Property_stolen_and_recovered_nature_of_property_2001_2010.csv\")\n",
    "property"
   ]
  },
  {
   "cell_type": "code",
   "execution_count": 3,
   "id": "c831437b",
   "metadata": {},
   "outputs": [
    {
     "data": {
      "text/plain": [
       "Andaman & Nicobar Islands    130\n",
       "Puducherry                   130\n",
       "Maharashtra                  130\n",
       "Manipur                      130\n",
       "Meghalaya                    130\n",
       "Mizoram                      130\n",
       "Nagaland                     130\n",
       "Odisha                       130\n",
       "Punjab                       130\n",
       "Lakshadweep                  130\n",
       "Rajasthan                    130\n",
       "Sikkim                       130\n",
       "Tamil Nadu                   130\n",
       "Tripura                      130\n",
       "Uttar Pradesh                130\n",
       "Uttarakhand                  130\n",
       "Madhya Pradesh               130\n",
       "Kerala                       130\n",
       "Andhra Pradesh               130\n",
       "Daman & Diu                  130\n",
       "Arunachal Pradesh            130\n",
       "Assam                        130\n",
       "Bihar                        130\n",
       "Chandigarh                   130\n",
       "Chhattisgarh                 130\n",
       "Dadra & Nagar Haveli         130\n",
       "Delhi                        130\n",
       "Karnataka                    130\n",
       "Goa                          130\n",
       "Gujarat                      130\n",
       "Haryana                      130\n",
       "Himachal Pradesh             130\n",
       "Jammu & Kashmir              130\n",
       "Jharkhand                    130\n",
       "West Bengal                  130\n",
       "Name: Area_Name, dtype: int64"
      ]
     },
     "execution_count": 3,
     "metadata": {},
     "output_type": "execute_result"
    }
   ],
   "source": [
    "property.Area_Name.value_counts()"
   ]
  },
  {
   "cell_type": "code",
   "execution_count": 4,
   "id": "bf8bdf79",
   "metadata": {},
   "outputs": [
    {
     "data": {
      "text/plain": [
       "2001    455\n",
       "2002    455\n",
       "2003    455\n",
       "2004    455\n",
       "2005    455\n",
       "2006    455\n",
       "2007    455\n",
       "2008    455\n",
       "2009    455\n",
       "2010    455\n",
       "Name: Year, dtype: int64"
      ]
     },
     "execution_count": 4,
     "metadata": {},
     "output_type": "execute_result"
    }
   ],
   "source": [
    "property.Year.value_counts()"
   ]
  },
  {
   "cell_type": "code",
   "execution_count": 5,
   "id": "fdf4f7a5",
   "metadata": {},
   "outputs": [
    {
     "data": {
      "text/plain": [
       "Fire arms - Property                                  700\n",
       "Cattle - Property                                     350\n",
       "Communication and Electricity Wire - Property         350\n",
       "Cultural Property including Antiques - Property       350\n",
       "Cycle - Property                                      350\n",
       "Electronic Components - Property                      350\n",
       "Motor Vehicles - Motor car/Taxi/Jeep - Property       350\n",
       "Motor Vehicles - Others - Property                    350\n",
       "Motor Vehicles - Property                             350\n",
       "Motor Vehicles -\\tMotor Cycles/Scooters - Property    350\n",
       "Other Nature of Property                              350\n",
       "Total Property(Nature)                                350\n",
       "Name: Group_Name, dtype: int64"
      ]
     },
     "execution_count": 5,
     "metadata": {},
     "output_type": "execute_result"
    }
   ],
   "source": [
    "property.Group_Name.value_counts()"
   ]
  },
  {
   "cell_type": "markdown",
   "id": "9a1cc274",
   "metadata": {},
   "source": [
    "* Group Name and Sub Group Name have the same number of instances per value type so they can be eliminated"
   ]
  },
  {
   "cell_type": "code",
   "execution_count": 6,
   "id": "9d31d1e6",
   "metadata": {},
   "outputs": [
    {
     "data": {
      "text/plain": [
       "2. Cattle                                    350\n",
       "1. Communation and Electricity Wire          350\n",
       "8. Cultural Property including Antiques      350\n",
       "3. Cycle                                     350\n",
       "7. Electronic Components                     350\n",
       "5. Fire Arms                                 350\n",
       "6. Explosives/Explosive Substances           350\n",
       "4.2 Motor Vehicles - Motor Car/Taxi/Jeep     350\n",
       "4.3 Motor Vehicles - Other Motor Vehicles    350\n",
       "4. Motor Vehicles                            350\n",
       "4.1 Motor Vehicles - Motor Cycle/Scooters    350\n",
       "9. Other kinds of Property                   350\n",
       "Total Property Stolen & Recovered            350\n",
       "Name: Sub_Group_Name, dtype: int64"
      ]
     },
     "execution_count": 6,
     "metadata": {},
     "output_type": "execute_result"
    }
   ],
   "source": [
    "property.Sub_Group_Name.value_counts()"
   ]
  },
  {
   "cell_type": "code",
   "execution_count": 11,
   "id": "a55a8184",
   "metadata": {},
   "outputs": [
    {
     "data": {
      "text/plain": [
       "5. Fire Arms                          350\n",
       "6. Explosives/Explosive Substances    350\n",
       "Name: Sub_Group_Name, dtype: int64"
      ]
     },
     "execution_count": 11,
     "metadata": {},
     "output_type": "execute_result"
    }
   ],
   "source": [
    "a=property.groupby(['Group_Name']).get_group('Fire arms - Property')\n",
    "a.Sub_Group_Name.value_counts()"
   ]
  },
  {
   "cell_type": "code",
   "execution_count": 14,
   "id": "7dfb53dc",
   "metadata": {},
   "outputs": [
    {
     "data": {
      "text/plain": [
       "9. Other kinds of Property    350\n",
       "Name: Sub_Group_Name, dtype: int64"
      ]
     },
     "execution_count": 14,
     "metadata": {},
     "output_type": "execute_result"
    }
   ],
   "source": [
    "a=property.groupby(['Group_Name']).get_group('Other Nature of Property')\n",
    "a.Sub_Group_Name.value_counts()"
   ]
  },
  {
   "cell_type": "code",
   "execution_count": 16,
   "id": "975c62d5",
   "metadata": {},
   "outputs": [],
   "source": [
    "#Since Sub_Group_Name is an irrelevant variable as previously proven ,we will use property1 as the base dataset\n",
    "\n",
    "property1=property.drop(['Sub_Group_Name'], axis=1)"
   ]
  },
  {
   "cell_type": "markdown",
   "id": "c66d1537",
   "metadata": {},
   "source": [
    "* Lets group the dataset based on the Area_Name(States) and drop the Year column Adjusting the Plot Size Using Seaborn to plot the Bar Plot Graph for Area_Name and Cases_Property_Stolen Rotating the labels of the graph for better visibility"
   ]
  },
  {
   "cell_type": "code",
   "execution_count": 17,
   "id": "aafb197d",
   "metadata": {},
   "outputs": [
    {
     "data": {
      "text/plain": [
       "<AxesSubplot:xlabel='Area_Name', ylabel='Cases_Property_Stolen'>"
      ]
     },
     "execution_count": 17,
     "metadata": {},
     "output_type": "execute_result"
    },
    {
     "data": {
      "image/png": "[encoded data removed]",
      "text/plain": [
       "<Figure size 1440x720 with 1 Axes>"
      ]
     },
     "metadata": {
      "needs_background": "light"
     },
     "output_type": "display_data"
    }
   ],
   "source": [
    "property_bystate=property1.groupby(['Area_Name'],as_index=False).sum()\n",
    "property_bystate.drop(\"Year\",axis=1,inplace=True)\n",
    "plt.figure(figsize = (20, 10))\n",
    "chart=sns.barplot(x=property_bystate.Area_Name,y=property_bystate.Cases_Property_Stolen)\n",
    "chart.set_xticklabels(chart.get_xticklabels(), rotation=45)\n",
    "chart"
   ]
  },
  {
   "cell_type": "code",
   "execution_count": 18,
   "id": "eedf777d",
   "metadata": {},
   "outputs": [
    {
     "data": {
      "text/plain": [
       "<AxesSubplot:xlabel='Year', ylabel='Cases_Property_Stolen'>"
      ]
     },
     "execution_count": 18,
     "metadata": {},
     "output_type": "execute_result"
    },
    {
     "data": {
      "image/png": "[encoded data removed]",
      "text/plain": [
       "<Figure size 1440x720 with 1 Axes>"
      ]
     },
     "metadata": {
      "needs_background": "light"
     },
     "output_type": "display_data"
    }
   ],
   "source": [
    "#Cases of Property Stolen across the year of all the States \n",
    "sortbyyear=property1.groupby(['Year'],as_index=False).sum()\n",
    "sortbyyear\n",
    "plt.figure(figsize = (20, 10))\n",
    "chart=sns.barplot(x=sortbyyear.Year,y=sortbyyear.Cases_Property_Stolen)\n",
    "chart.set_xticklabels(chart.get_xticklabels(), rotation=45)\n",
    "chart"
   ]
  },
  {
   "cell_type": "code",
   "execution_count": 19,
   "id": "818be12f",
   "metadata": {},
   "outputs": [
    {
     "data": {
      "text/plain": [
       "<AxesSubplot:xlabel='Year', ylabel='Value_of_Property_Stolen'>"
      ]
     },
     "execution_count": 19,
     "metadata": {},
     "output_type": "execute_result"
    },
    {
     "data": {
      "image/png": "[encoded data removed]",
      "text/plain": [
       "<Figure size 1440x720 with 1 Axes>"
      ]
     },
     "metadata": {
      "needs_background": "light"
     },
     "output_type": "display_data"
    }
   ],
   "source": [
    "#Value of Property Stolen across the year of all the States \n",
    "\n",
    "plt.figure(figsize = (20, 10))\n",
    "chart=sns.barplot(x=sortbyyear.Year,y=sortbyyear.Value_of_Property_Stolen)\n",
    "chart.set_xticklabels(chart.get_xticklabels(), rotation=45)\n",
    "chart"
   ]
  },
  {
   "cell_type": "code",
   "execution_count": 20,
   "id": "a0f090a4",
   "metadata": {},
   "outputs": [
    {
     "data": {
      "text/plain": [
       "<AxesSubplot:xlabel='Area_Name', ylabel='Value_of_Property_Stolen'>"
      ]
     },
     "execution_count": 20,
     "metadata": {},
     "output_type": "execute_result"
    },
    {
     "data": {
      "image/png": "[encoded data removed]",
      "text/plain": [
       "<Figure size 1440x720 with 1 Axes>"
      ]
     },
     "metadata": {
      "needs_background": "light"
     },
     "output_type": "display_data"
    }
   ],
   "source": [
    "plt.figure(figsize = (20, 10))\n",
    "chart=sns.barplot(x=property_bystate.Area_Name,y=property_bystate.Value_of_Property_Stolen)\n",
    "chart.set_xticklabels(chart.get_xticklabels(), rotation=45)\n",
    "chart"
   ]
  },
  {
   "cell_type": "markdown",
   "id": "f30e1196",
   "metadata": {},
   "source": [
    "*From the Graph and the crosstab above ,we can see that Maharashtra has the most number of cases of stolen property and the value of the property stolen by a big margin So lets find out more about Maharashtra from the original dataset"
   ]
  },
  {
   "cell_type": "code",
   "execution_count": 21,
   "id": "53627e5a",
   "metadata": {},
   "outputs": [
    {
     "data": {
      "text/plain": [
       "<AxesSubplot:xlabel='Year', ylabel='Value_of_Property_Stolen'>"
      ]
     },
     "execution_count": 21,
     "metadata": {},
     "output_type": "execute_result"
    },
    {
     "data": {
      "image/png": "[encoded data removed]",
      "text/plain": [
       "<Figure size 1440x720 with 1 Axes>"
      ]
     },
     "metadata": {
      "needs_background": "light"
     },
     "output_type": "display_data"
    }
   ],
   "source": [
    "a=property1.groupby(['Area_Name']).get_group('Maharashtra')\n",
    "plt.figure(figsize = (20, 10))\n",
    "chart=sns.barplot(x=a.Year,y=a.Value_of_Property_Stolen)\n",
    "chart.set_xticklabels(chart.get_xticklabels(), rotation=45)\n",
    "chart"
   ]
  },
  {
   "cell_type": "code",
   "execution_count": 22,
   "id": "5f81dc9f",
   "metadata": {},
   "outputs": [
    {
     "data": {
      "text/plain": [
       "<AxesSubplot:xlabel='Year', ylabel='Cases_Property_Stolen'>"
      ]
     },
     "execution_count": 22,
     "metadata": {},
     "output_type": "execute_result"
    },
    {
     "data": {
      "image/png": "[encoded data removed]",
      "text/plain": [
       "<Figure size 1440x720 with 1 Axes>"
      ]
     },
     "metadata": {
      "needs_background": "light"
     },
     "output_type": "display_data"
    }
   ],
   "source": [
    "a=property1.groupby(['Area_Name']).get_group('Maharashtra')\n",
    "plt.figure(figsize = (20, 10))\n",
    "chart=sns.barplot(x=a.Year,y=a.Cases_Property_Stolen)\n",
    "chart.set_xticklabels(chart.get_xticklabels(), rotation=45)\n",
    "chart"
   ]
  },
  {
   "cell_type": "code",
   "execution_count": 23,
   "id": "5c6d0988",
   "metadata": {},
   "outputs": [
    {
     "data": {
      "text/html": [
       "<div>\n",
       "<style scoped>\n",
       "    .dataframe tbody tr th:only-of-type {\n",
       "        vertical-align: middle;\n",
       "    }\n",
       "\n",
       "    .dataframe tbody tr th {\n",
       "        vertical-align: top;\n",
       "    }\n",
       "\n",
       "    .dataframe thead th {\n",
       "        text-align: right;\n",
       "    }\n",
       "</style>\n",
       "<table border=\"1\" class=\"dataframe\">\n",
       "  <thead>\n",
       "    <tr style=\"text-align: right;\">\n",
       "      <th></th>\n",
       "      <th>Area_Name</th>\n",
       "      <th>Year</th>\n",
       "      <th>Group_Name</th>\n",
       "      <th>Sub_Group_Name</th>\n",
       "      <th>Cases_Property_Recovered</th>\n",
       "      <th>Cases_Property_Stolen</th>\n",
       "      <th>Value_of_Property_Recovered</th>\n",
       "      <th>Value_of_Property_Stolen</th>\n",
       "    </tr>\n",
       "  </thead>\n",
       "  <tbody>\n",
       "    <tr>\n",
       "      <th>1750</th>\n",
       "      <td>Andaman &amp; Nicobar Islands</td>\n",
       "      <td>2001</td>\n",
       "      <td>Fire arms - Property</td>\n",
       "      <td>5. Fire Arms</td>\n",
       "      <td>4</td>\n",
       "      <td>4</td>\n",
       "      <td>92000</td>\n",
       "      <td>92000</td>\n",
       "    </tr>\n",
       "    <tr>\n",
       "      <th>1751</th>\n",
       "      <td>Andaman &amp; Nicobar Islands</td>\n",
       "      <td>2001</td>\n",
       "      <td>Fire arms - Property</td>\n",
       "      <td>6. Explosives/Explosive Substances</td>\n",
       "      <td>4</td>\n",
       "      <td>4</td>\n",
       "      <td>92000</td>\n",
       "      <td>92000</td>\n",
       "    </tr>\n",
       "    <tr>\n",
       "      <th>1752</th>\n",
       "      <td>Andhra Pradesh</td>\n",
       "      <td>2001</td>\n",
       "      <td>Fire arms - Property</td>\n",
       "      <td>5. Fire Arms</td>\n",
       "      <td>1480</td>\n",
       "      <td>3115</td>\n",
       "      <td>50311688</td>\n",
       "      <td>99449152</td>\n",
       "    </tr>\n",
       "    <tr>\n",
       "      <th>1753</th>\n",
       "      <td>Andhra Pradesh</td>\n",
       "      <td>2001</td>\n",
       "      <td>Fire arms - Property</td>\n",
       "      <td>6. Explosives/Explosive Substances</td>\n",
       "      <td>1480</td>\n",
       "      <td>3115</td>\n",
       "      <td>50311688</td>\n",
       "      <td>99449152</td>\n",
       "    </tr>\n",
       "    <tr>\n",
       "      <th>1754</th>\n",
       "      <td>Arunachal Pradesh</td>\n",
       "      <td>2001</td>\n",
       "      <td>Fire arms - Property</td>\n",
       "      <td>5. Fire Arms</td>\n",
       "      <td>27</td>\n",
       "      <td>36</td>\n",
       "      <td>2335600</td>\n",
       "      <td>3567000</td>\n",
       "    </tr>\n",
       "    <tr>\n",
       "      <th>...</th>\n",
       "      <td>...</td>\n",
       "      <td>...</td>\n",
       "      <td>...</td>\n",
       "      <td>...</td>\n",
       "      <td>...</td>\n",
       "      <td>...</td>\n",
       "      <td>...</td>\n",
       "      <td>...</td>\n",
       "    </tr>\n",
       "    <tr>\n",
       "      <th>2445</th>\n",
       "      <td>Uttar Pradesh</td>\n",
       "      <td>2010</td>\n",
       "      <td>Fire arms - Property</td>\n",
       "      <td>6. Explosives/Explosive Substances</td>\n",
       "      <td>2434</td>\n",
       "      <td>16705</td>\n",
       "      <td>178167432</td>\n",
       "      <td>517336269</td>\n",
       "    </tr>\n",
       "    <tr>\n",
       "      <th>2446</th>\n",
       "      <td>Uttarakhand</td>\n",
       "      <td>2010</td>\n",
       "      <td>Fire arms - Property</td>\n",
       "      <td>5. Fire Arms</td>\n",
       "      <td>244</td>\n",
       "      <td>853</td>\n",
       "      <td>19915200</td>\n",
       "      <td>59501600</td>\n",
       "    </tr>\n",
       "    <tr>\n",
       "      <th>2447</th>\n",
       "      <td>Uttarakhand</td>\n",
       "      <td>2010</td>\n",
       "      <td>Fire arms - Property</td>\n",
       "      <td>6. Explosives/Explosive Substances</td>\n",
       "      <td>244</td>\n",
       "      <td>853</td>\n",
       "      <td>19915200</td>\n",
       "      <td>59501600</td>\n",
       "    </tr>\n",
       "    <tr>\n",
       "      <th>2448</th>\n",
       "      <td>West Bengal</td>\n",
       "      <td>2010</td>\n",
       "      <td>Fire arms - Property</td>\n",
       "      <td>5. Fire Arms</td>\n",
       "      <td>622</td>\n",
       "      <td>4135</td>\n",
       "      <td>61254227</td>\n",
       "      <td>337774365</td>\n",
       "    </tr>\n",
       "    <tr>\n",
       "      <th>2449</th>\n",
       "      <td>West Bengal</td>\n",
       "      <td>2010</td>\n",
       "      <td>Fire arms - Property</td>\n",
       "      <td>6. Explosives/Explosive Substances</td>\n",
       "      <td>622</td>\n",
       "      <td>4135</td>\n",
       "      <td>61254227</td>\n",
       "      <td>337774365</td>\n",
       "    </tr>\n",
       "  </tbody>\n",
       "</table>\n",
       "<p>700 rows × 8 columns</p>\n",
       "</div>"
      ],
      "text/plain": [
       "                      Area_Name  Year            Group_Name  \\\n",
       "1750  Andaman & Nicobar Islands  2001  Fire arms - Property   \n",
       "1751  Andaman & Nicobar Islands  2001  Fire arms - Property   \n",
       "1752             Andhra Pradesh  2001  Fire arms - Property   \n",
       "1753             Andhra Pradesh  2001  Fire arms - Property   \n",
       "1754          Arunachal Pradesh  2001  Fire arms - Property   \n",
       "...                         ...   ...                   ...   \n",
       "2445              Uttar Pradesh  2010  Fire arms - Property   \n",
       "2446                Uttarakhand  2010  Fire arms - Property   \n",
       "2447                Uttarakhand  2010  Fire arms - Property   \n",
       "2448                West Bengal  2010  Fire arms - Property   \n",
       "2449                West Bengal  2010  Fire arms - Property   \n",
       "\n",
       "                          Sub_Group_Name  Cases_Property_Recovered  \\\n",
       "1750                        5. Fire Arms                         4   \n",
       "1751  6. Explosives/Explosive Substances                         4   \n",
       "1752                        5. Fire Arms                      1480   \n",
       "1753  6. Explosives/Explosive Substances                      1480   \n",
       "1754                        5. Fire Arms                        27   \n",
       "...                                  ...                       ...   \n",
       "2445  6. Explosives/Explosive Substances                      2434   \n",
       "2446                        5. Fire Arms                       244   \n",
       "2447  6. Explosives/Explosive Substances                       244   \n",
       "2448                        5. Fire Arms                       622   \n",
       "2449  6. Explosives/Explosive Substances                       622   \n",
       "\n",
       "      Cases_Property_Stolen  Value_of_Property_Recovered  \\\n",
       "1750                      4                        92000   \n",
       "1751                      4                        92000   \n",
       "1752                   3115                     50311688   \n",
       "1753                   3115                     50311688   \n",
       "1754                     36                      2335600   \n",
       "...                     ...                          ...   \n",
       "2445                  16705                    178167432   \n",
       "2446                    853                     19915200   \n",
       "2447                    853                     19915200   \n",
       "2448                   4135                     61254227   \n",
       "2449                   4135                     61254227   \n",
       "\n",
       "      Value_of_Property_Stolen  \n",
       "1750                     92000  \n",
       "1751                     92000  \n",
       "1752                  99449152  \n",
       "1753                  99449152  \n",
       "1754                   3567000  \n",
       "...                        ...  \n",
       "2445                 517336269  \n",
       "2446                  59501600  \n",
       "2447                  59501600  \n",
       "2448                 337774365  \n",
       "2449                 337774365  \n",
       "\n",
       "[700 rows x 8 columns]"
      ]
     },
     "execution_count": 23,
     "metadata": {},
     "output_type": "execute_result"
    }
   ],
   "source": [
    "property.groupby(['Group_Name']).get_group('Fire arms - Property')"
   ]
  },
  {
   "cell_type": "markdown",
   "id": "f3613d38",
   "metadata": {},
   "source": [
    "* Scatter Plot between Cases of Property Recovered and Stolen"
   ]
  },
  {
   "cell_type": "code",
   "execution_count": 24,
   "id": "e2df11c6",
   "metadata": {},
   "outputs": [
    {
     "data": {
      "text/plain": [
       "<AxesSubplot:xlabel='Cases_Property_Recovered', ylabel='Cases_Property_Stolen'>"
      ]
     },
     "execution_count": 24,
     "metadata": {},
     "output_type": "execute_result"
    },
    {
     "data": {
      "image/png": "[encoded data removed]",
      "text/plain": [
       "<Figure size 432x288 with 1 Axes>"
      ]
     },
     "metadata": {
      "needs_background": "light"
     },
     "output_type": "display_data"
    }
   ],
   "source": [
    "sns.scatterplot(x=property.Cases_Property_Recovered,y=property.Cases_Property_Stolen)"
   ]
  },
  {
   "cell_type": "markdown",
   "id": "2e77b971",
   "metadata": {},
   "source": [
    "* The following code below gives us a difference of the Cases of Property Recovered from Total Cases of Property Stolen"
   ]
  },
  {
   "cell_type": "code",
   "execution_count": 25,
   "id": "78afc6ee",
   "metadata": {},
   "outputs": [
    {
     "data": {
      "text/html": [
       "<div>\n",
       "<style scoped>\n",
       "    .dataframe tbody tr th:only-of-type {\n",
       "        vertical-align: middle;\n",
       "    }\n",
       "\n",
       "    .dataframe tbody tr th {\n",
       "        vertical-align: top;\n",
       "    }\n",
       "\n",
       "    .dataframe thead th {\n",
       "        text-align: right;\n",
       "    }\n",
       "</style>\n",
       "<table border=\"1\" class=\"dataframe\">\n",
       "  <thead>\n",
       "    <tr style=\"text-align: right;\">\n",
       "      <th></th>\n",
       "      <th>Area_Name</th>\n",
       "      <th>Cases_Property_Recovered</th>\n",
       "      <th>Cases_Property_Stolen</th>\n",
       "      <th>Value_of_Property_Recovered</th>\n",
       "      <th>Value_of_Property_Stolen</th>\n",
       "      <th>Difference</th>\n",
       "    </tr>\n",
       "  </thead>\n",
       "  <tbody>\n",
       "    <tr>\n",
       "      <th>0</th>\n",
       "      <td>Andaman &amp; Nicobar Islands</td>\n",
       "      <td>1584</td>\n",
       "      <td>3753</td>\n",
       "      <td>58746894</td>\n",
       "      <td>652963034</td>\n",
       "      <td>2169</td>\n",
       "    </tr>\n",
       "    <tr>\n",
       "      <th>1</th>\n",
       "      <td>Andhra Pradesh</td>\n",
       "      <td>365664</td>\n",
       "      <td>707653</td>\n",
       "      <td>10042202784</td>\n",
       "      <td>21583696194</td>\n",
       "      <td>341989</td>\n",
       "    </tr>\n",
       "    <tr>\n",
       "      <th>2</th>\n",
       "      <td>Arunachal Pradesh</td>\n",
       "      <td>6404</td>\n",
       "      <td>17536</td>\n",
       "      <td>676669714</td>\n",
       "      <td>1999247979</td>\n",
       "      <td>11132</td>\n",
       "    </tr>\n",
       "    <tr>\n",
       "      <th>3</th>\n",
       "      <td>Assam</td>\n",
       "      <td>58574</td>\n",
       "      <td>260312</td>\n",
       "      <td>2050088094</td>\n",
       "      <td>7426993931</td>\n",
       "      <td>201738</td>\n",
       "    </tr>\n",
       "    <tr>\n",
       "      <th>4</th>\n",
       "      <td>Bihar</td>\n",
       "      <td>67602</td>\n",
       "      <td>437835</td>\n",
       "      <td>1444176791</td>\n",
       "      <td>9295129888</td>\n",
       "      <td>370233</td>\n",
       "    </tr>\n",
       "    <tr>\n",
       "      <th>5</th>\n",
       "      <td>Chandigarh</td>\n",
       "      <td>18449</td>\n",
       "      <td>50266</td>\n",
       "      <td>946569182</td>\n",
       "      <td>2615635654</td>\n",
       "      <td>31817</td>\n",
       "    </tr>\n",
       "    <tr>\n",
       "      <th>6</th>\n",
       "      <td>Chhattisgarh</td>\n",
       "      <td>75361</td>\n",
       "      <td>218707</td>\n",
       "      <td>2450294352</td>\n",
       "      <td>6912572828</td>\n",
       "      <td>143346</td>\n",
       "    </tr>\n",
       "    <tr>\n",
       "      <th>7</th>\n",
       "      <td>Dadra &amp; Nagar Haveli</td>\n",
       "      <td>1281</td>\n",
       "      <td>2935</td>\n",
       "      <td>240858466</td>\n",
       "      <td>2061977572</td>\n",
       "      <td>1654</td>\n",
       "    </tr>\n",
       "    <tr>\n",
       "      <th>8</th>\n",
       "      <td>Daman &amp; Diu</td>\n",
       "      <td>651</td>\n",
       "      <td>2386</td>\n",
       "      <td>97627917</td>\n",
       "      <td>418672357</td>\n",
       "      <td>1735</td>\n",
       "    </tr>\n",
       "    <tr>\n",
       "      <th>9</th>\n",
       "      <td>Delhi</td>\n",
       "      <td>185183</td>\n",
       "      <td>635795</td>\n",
       "      <td>3822400256</td>\n",
       "      <td>74497210284</td>\n",
       "      <td>450612</td>\n",
       "    </tr>\n",
       "    <tr>\n",
       "      <th>10</th>\n",
       "      <td>Goa</td>\n",
       "      <td>6706</td>\n",
       "      <td>22274</td>\n",
       "      <td>440225856</td>\n",
       "      <td>4400660150</td>\n",
       "      <td>15568</td>\n",
       "    </tr>\n",
       "    <tr>\n",
       "      <th>11</th>\n",
       "      <td>Gujarat</td>\n",
       "      <td>189343</td>\n",
       "      <td>622993</td>\n",
       "      <td>8409192128</td>\n",
       "      <td>71285745744</td>\n",
       "      <td>433650</td>\n",
       "    </tr>\n",
       "    <tr>\n",
       "      <th>12</th>\n",
       "      <td>Haryana</td>\n",
       "      <td>160311</td>\n",
       "      <td>380353</td>\n",
       "      <td>12157629227</td>\n",
       "      <td>20544901951</td>\n",
       "      <td>220042</td>\n",
       "    </tr>\n",
       "    <tr>\n",
       "      <th>13</th>\n",
       "      <td>Himachal Pradesh</td>\n",
       "      <td>11503</td>\n",
       "      <td>37781</td>\n",
       "      <td>1057496786</td>\n",
       "      <td>3593845347</td>\n",
       "      <td>26278</td>\n",
       "    </tr>\n",
       "    <tr>\n",
       "      <th>14</th>\n",
       "      <td>Jammu &amp; Kashmir</td>\n",
       "      <td>25424</td>\n",
       "      <td>84564</td>\n",
       "      <td>1717500732</td>\n",
       "      <td>4032599465</td>\n",
       "      <td>59140</td>\n",
       "    </tr>\n",
       "    <tr>\n",
       "      <th>15</th>\n",
       "      <td>Jharkhand</td>\n",
       "      <td>38247</td>\n",
       "      <td>192610</td>\n",
       "      <td>851682603</td>\n",
       "      <td>5468354472</td>\n",
       "      <td>154363</td>\n",
       "    </tr>\n",
       "    <tr>\n",
       "      <th>16</th>\n",
       "      <td>Karnataka</td>\n",
       "      <td>181709</td>\n",
       "      <td>570524</td>\n",
       "      <td>11079496779</td>\n",
       "      <td>33945698679</td>\n",
       "      <td>388815</td>\n",
       "    </tr>\n",
       "    <tr>\n",
       "      <th>17</th>\n",
       "      <td>Kerala</td>\n",
       "      <td>81294</td>\n",
       "      <td>246847</td>\n",
       "      <td>4023466295</td>\n",
       "      <td>30857528237</td>\n",
       "      <td>165553</td>\n",
       "    </tr>\n",
       "    <tr>\n",
       "      <th>18</th>\n",
       "      <td>Lakshadweep</td>\n",
       "      <td>115</td>\n",
       "      <td>383</td>\n",
       "      <td>1976521</td>\n",
       "      <td>11812049</td>\n",
       "      <td>268</td>\n",
       "    </tr>\n",
       "    <tr>\n",
       "      <th>19</th>\n",
       "      <td>Madhya Pradesh</td>\n",
       "      <td>278003</td>\n",
       "      <td>819819</td>\n",
       "      <td>22427531681</td>\n",
       "      <td>35554532139</td>\n",
       "      <td>541816</td>\n",
       "    </tr>\n",
       "    <tr>\n",
       "      <th>20</th>\n",
       "      <td>Maharashtra</td>\n",
       "      <td>515253</td>\n",
       "      <td>1535782</td>\n",
       "      <td>29543342881</td>\n",
       "      <td>217063089987</td>\n",
       "      <td>1020529</td>\n",
       "    </tr>\n",
       "    <tr>\n",
       "      <th>21</th>\n",
       "      <td>Manipur</td>\n",
       "      <td>785</td>\n",
       "      <td>13572</td>\n",
       "      <td>152832926</td>\n",
       "      <td>1580844061</td>\n",
       "      <td>12787</td>\n",
       "    </tr>\n",
       "    <tr>\n",
       "      <th>22</th>\n",
       "      <td>Meghalaya</td>\n",
       "      <td>4286</td>\n",
       "      <td>18543</td>\n",
       "      <td>208510278</td>\n",
       "      <td>1799060939</td>\n",
       "      <td>14257</td>\n",
       "    </tr>\n",
       "    <tr>\n",
       "      <th>23</th>\n",
       "      <td>Mizoram</td>\n",
       "      <td>19371</td>\n",
       "      <td>27498</td>\n",
       "      <td>439567409</td>\n",
       "      <td>1072176297</td>\n",
       "      <td>8127</td>\n",
       "    </tr>\n",
       "    <tr>\n",
       "      <th>24</th>\n",
       "      <td>Nagaland</td>\n",
       "      <td>3229</td>\n",
       "      <td>13639</td>\n",
       "      <td>332185747</td>\n",
       "      <td>4783250928</td>\n",
       "      <td>10410</td>\n",
       "    </tr>\n",
       "    <tr>\n",
       "      <th>25</th>\n",
       "      <td>Odisha</td>\n",
       "      <td>109710</td>\n",
       "      <td>242469</td>\n",
       "      <td>3143069274</td>\n",
       "      <td>14063656181</td>\n",
       "      <td>132759</td>\n",
       "    </tr>\n",
       "    <tr>\n",
       "      <th>26</th>\n",
       "      <td>Puducherry</td>\n",
       "      <td>8798</td>\n",
       "      <td>17909</td>\n",
       "      <td>318754564</td>\n",
       "      <td>568822255</td>\n",
       "      <td>9111</td>\n",
       "    </tr>\n",
       "    <tr>\n",
       "      <th>27</th>\n",
       "      <td>Punjab</td>\n",
       "      <td>94791</td>\n",
       "      <td>175301</td>\n",
       "      <td>10005401525</td>\n",
       "      <td>18625442713</td>\n",
       "      <td>80510</td>\n",
       "    </tr>\n",
       "    <tr>\n",
       "      <th>28</th>\n",
       "      <td>Rajasthan</td>\n",
       "      <td>159169</td>\n",
       "      <td>557767</td>\n",
       "      <td>14614007333</td>\n",
       "      <td>25739605450</td>\n",
       "      <td>398598</td>\n",
       "    </tr>\n",
       "    <tr>\n",
       "      <th>29</th>\n",
       "      <td>Sikkim</td>\n",
       "      <td>1068</td>\n",
       "      <td>3441</td>\n",
       "      <td>63751540</td>\n",
       "      <td>506448388</td>\n",
       "      <td>2373</td>\n",
       "    </tr>\n",
       "    <tr>\n",
       "      <th>30</th>\n",
       "      <td>Tamil Nadu</td>\n",
       "      <td>374758</td>\n",
       "      <td>476573</td>\n",
       "      <td>10628122452</td>\n",
       "      <td>16270244954</td>\n",
       "      <td>101815</td>\n",
       "    </tr>\n",
       "    <tr>\n",
       "      <th>31</th>\n",
       "      <td>Tripura</td>\n",
       "      <td>3558</td>\n",
       "      <td>15025</td>\n",
       "      <td>113733584</td>\n",
       "      <td>707466988</td>\n",
       "      <td>11467</td>\n",
       "    </tr>\n",
       "    <tr>\n",
       "      <th>32</th>\n",
       "      <td>Uttar Pradesh</td>\n",
       "      <td>194531</td>\n",
       "      <td>672276</td>\n",
       "      <td>16116759792</td>\n",
       "      <td>29094427241</td>\n",
       "      <td>477745</td>\n",
       "    </tr>\n",
       "    <tr>\n",
       "      <th>33</th>\n",
       "      <td>Uttarakhand</td>\n",
       "      <td>16353</td>\n",
       "      <td>48127</td>\n",
       "      <td>683096234</td>\n",
       "      <td>2147406706</td>\n",
       "      <td>31774</td>\n",
       "    </tr>\n",
       "    <tr>\n",
       "      <th>34</th>\n",
       "      <td>West Bengal</td>\n",
       "      <td>92953</td>\n",
       "      <td>405243</td>\n",
       "      <td>5822200089</td>\n",
       "      <td>25543386953</td>\n",
       "      <td>312290</td>\n",
       "    </tr>\n",
       "  </tbody>\n",
       "</table>\n",
       "</div>"
      ],
      "text/plain": [
       "                    Area_Name  Cases_Property_Recovered  \\\n",
       "0   Andaman & Nicobar Islands                      1584   \n",
       "1              Andhra Pradesh                    365664   \n",
       "2           Arunachal Pradesh                      6404   \n",
       "3                       Assam                     58574   \n",
       "4                       Bihar                     67602   \n",
       "5                  Chandigarh                     18449   \n",
       "6                Chhattisgarh                     75361   \n",
       "7        Dadra & Nagar Haveli                      1281   \n",
       "8                 Daman & Diu                       651   \n",
       "9                       Delhi                    185183   \n",
       "10                        Goa                      6706   \n",
       "11                    Gujarat                    189343   \n",
       "12                    Haryana                    160311   \n",
       "13           Himachal Pradesh                     11503   \n",
       "14            Jammu & Kashmir                     25424   \n",
       "15                  Jharkhand                     38247   \n",
       "16                  Karnataka                    181709   \n",
       "17                     Kerala                     81294   \n",
       "18                Lakshadweep                       115   \n",
       "19             Madhya Pradesh                    278003   \n",
       "20                Maharashtra                    515253   \n",
       "21                    Manipur                       785   \n",
       "22                  Meghalaya                      4286   \n",
       "23                    Mizoram                     19371   \n",
       "24                   Nagaland                      3229   \n",
       "25                     Odisha                    109710   \n",
       "26                 Puducherry                      8798   \n",
       "27                     Punjab                     94791   \n",
       "28                  Rajasthan                    159169   \n",
       "29                     Sikkim                      1068   \n",
       "30                 Tamil Nadu                    374758   \n",
       "31                    Tripura                      3558   \n",
       "32              Uttar Pradesh                    194531   \n",
       "33                Uttarakhand                     16353   \n",
       "34                West Bengal                     92953   \n",
       "\n",
       "    Cases_Property_Stolen  Value_of_Property_Recovered  \\\n",
       "0                    3753                     58746894   \n",
       "1                  707653                  10042202784   \n",
       "2                   17536                    676669714   \n",
       "3                  260312                   2050088094   \n",
       "4                  437835                   1444176791   \n",
       "5                   50266                    946569182   \n",
       "6                  218707                   2450294352   \n",
       "7                    2935                    240858466   \n",
       "8                    2386                     97627917   \n",
       "9                  635795                   3822400256   \n",
       "10                  22274                    440225856   \n",
       "11                 622993                   8409192128   \n",
       "12                 380353                  12157629227   \n",
       "13                  37781                   1057496786   \n",
       "14                  84564                   1717500732   \n",
       "15                 192610                    851682603   \n",
       "16                 570524                  11079496779   \n",
       "17                 246847                   4023466295   \n",
       "18                    383                      1976521   \n",
       "19                 819819                  22427531681   \n",
       "20                1535782                  29543342881   \n",
       "21                  13572                    152832926   \n",
       "22                  18543                    208510278   \n",
       "23                  27498                    439567409   \n",
       "24                  13639                    332185747   \n",
       "25                 242469                   3143069274   \n",
       "26                  17909                    318754564   \n",
       "27                 175301                  10005401525   \n",
       "28                 557767                  14614007333   \n",
       "29                   3441                     63751540   \n",
       "30                 476573                  10628122452   \n",
       "31                  15025                    113733584   \n",
       "32                 672276                  16116759792   \n",
       "33                  48127                    683096234   \n",
       "34                 405243                   5822200089   \n",
       "\n",
       "    Value_of_Property_Stolen  Difference  \n",
       "0                  652963034        2169  \n",
       "1                21583696194      341989  \n",
       "2                 1999247979       11132  \n",
       "3                 7426993931      201738  \n",
       "4                 9295129888      370233  \n",
       "5                 2615635654       31817  \n",
       "6                 6912572828      143346  \n",
       "7                 2061977572        1654  \n",
       "8                  418672357        1735  \n",
       "9                74497210284      450612  \n",
       "10                4400660150       15568  \n",
       "11               71285745744      433650  \n",
       "12               20544901951      220042  \n",
       "13                3593845347       26278  \n",
       "14                4032599465       59140  \n",
       "15                5468354472      154363  \n",
       "16               33945698679      388815  \n",
       "17               30857528237      165553  \n",
       "18                  11812049         268  \n",
       "19               35554532139      541816  \n",
       "20              217063089987     1020529  \n",
       "21                1580844061       12787  \n",
       "22                1799060939       14257  \n",
       "23                1072176297        8127  \n",
       "24                4783250928       10410  \n",
       "25               14063656181      132759  \n",
       "26                 568822255        9111  \n",
       "27               18625442713       80510  \n",
       "28               25739605450      398598  \n",
       "29                 506448388        2373  \n",
       "30               16270244954      101815  \n",
       "31                 707466988       11467  \n",
       "32               29094427241      477745  \n",
       "33                2147406706       31774  \n",
       "34               25543386953      312290  "
      ]
     },
     "execution_count": 25,
     "metadata": {},
     "output_type": "execute_result"
    }
   ],
   "source": [
    "property_bystate['Difference']=property_bystate[\"Cases_Property_Stolen\"]- property_bystate[\"Cases_Property_Recovered\"]\n",
    "property_bystate"
   ]
  },
  {
   "cell_type": "code",
   "execution_count": 26,
   "id": "9c387cb2",
   "metadata": {},
   "outputs": [
    {
     "data": {
      "text/plain": [
       "21     5.783967\n",
       "4     15.440063\n",
       "15    19.857224\n",
       "3     22.501460\n",
       "34    22.937595\n",
       "22    23.113843\n",
       "24    23.674756\n",
       "31    23.680532\n",
       "8     27.284158\n",
       "28    28.536826\n",
       "32    28.936181\n",
       "9     29.126212\n",
       "18    30.026110\n",
       "14    30.064803\n",
       "10    30.106851\n",
       "11    30.392476\n",
       "13    30.446521\n",
       "29    31.037489\n",
       "16    31.849493\n",
       "17    32.932950\n",
       "20    33.549879\n",
       "19    33.910290\n",
       "33    33.978848\n",
       "6     34.457516\n",
       "2     36.519161\n",
       "5     36.702741\n",
       "12    42.147952\n",
       "0     42.206235\n",
       "7     43.645656\n",
       "25    45.247021\n",
       "26    49.126138\n",
       "1     51.672783\n",
       "27    54.073280\n",
       "23    70.445123\n",
       "30    78.636012\n",
       "Name: Percent_Recovery_Cases, dtype: float64"
      ]
     },
     "execution_count": 26,
     "metadata": {},
     "output_type": "execute_result"
    }
   ],
   "source": [
    "property_bystate['Percent_Recovery_Cases']=(property_bystate[\"Cases_Property_Recovered\"]/ property_bystate[\"Cases_Property_Stolen\"])*100\n",
    "\n",
    "property_bystate.Percent_Recovery_Cases.sort_values()"
   ]
  },
  {
   "cell_type": "markdown",
   "id": "734306cf",
   "metadata": {},
   "source": [
    "*From the numbers we can understand that 21(Manipur) has the lowest recovery rate ,first row (5.78) Second is Bihar with 15.44 % rate followed by Jharkhand in the third place with 19.85 % recovery rate While with a RR of 78.63 ,(30)Tamil Nadu Police works most effeciently and productively followed by Mizoram(23) with 70.44 ,Punjab(27) with 54.07 % ,while Andhra Pradesh with 49.12% and Puducherry at 51.67% RR.*\n",
    "\n",
    "***The mean recovery rates of all the states on recovery based on cases is 34.40 %***"
   ]
  },
  {
   "cell_type": "code",
   "execution_count": 27,
   "id": "172f8ccb",
   "metadata": {},
   "outputs": [
    {
     "data": {
      "text/plain": [
       "34.40137560219731"
      ]
     },
     "execution_count": 27,
     "metadata": {},
     "output_type": "execute_result"
    }
   ],
   "source": [
    "property_bystate.Percent_Recovery_Cases.sort_values().mean()"
   ]
  },
  {
   "cell_type": "code",
   "execution_count": null,
   "id": "51feca6a",
   "metadata": {},
   "outputs": [],
   "source": []
  }
 ],
 "metadata": {
  "kernelspec": {
   "display_name": "Python 3 (ipykernel)",
   "language": "python",
   "name": "python3"
  },
  "language_info": {
   "codemirror_mode": {
    "name": "ipython",
    "version": 3
   },
   "file_extension": ".py",
   "mimetype": "text/x-python",
   "name": "python",
   "nbconvert_exporter": "python",
   "pygments_lexer": "ipython3",
   "version": "3.9.12"
  }
 },
 "nbformat": 4,
 "nbformat_minor": 5
}
