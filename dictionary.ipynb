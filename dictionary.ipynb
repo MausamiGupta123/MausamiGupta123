{
 "cells": [
  {
   "cell_type": "markdown",
   "id": "25db57e5",
   "metadata": {},
   "source": [
    "# Dictionaries"
   ]
  },
  {
   "cell_type": "markdown",
   "id": "00d3b1ae",
   "metadata": {},
   "source": [
    "we have learned about \"sequences\" in the previous session. Now, let's Switch the gears and learn about \"mappings\"in python. these dictionaries are nothing but hash tables in other programming languages.\n",
    "    In this section, we will learn briefly about an introductionto dictionaries and what it consists of:\n",
    "                        1) Constructing a Dictionary\n",
    "                        2) Accessing objects from a dictionary\n",
    "                        3) Basic Dictionary Methods.\n",
    "Before we dive deep in to this concept, let's understand what are Mappings?\n",
    "\n",
    "    Mappings are a collections of objects that are stored by a \"Key\" unlike a sequence, mapping store objects by there relative position. This is an important distinction since mappings won't retain the order since they have objects defined by a key.\n",
    "    \n",
    "A python dictionary consists of a key and then an associated value. that value can be almost any python object."
   ]
  },
  {
   "cell_type": "markdown",
   "id": "3463b6c9",
   "metadata": {},
   "source": [
    "# Constructing  a  Dictionary\n",
    "\n",
    "   "
   ]
  },
  {
   "cell_type": "markdown",
   "id": "031672e4",
   "metadata": {},
   "source": [
    "## "
   ]
  },
  {
   "cell_type": "markdown",
   "id": "2a5d4923",
   "metadata": {},
   "source": [
    " Let's see how we can construct dictionaries to get a better understanding of how they work!"
   ]
  },
  {
   "cell_type": "code",
   "execution_count": 1,
   "id": "ef27708b",
   "metadata": {},
   "outputs": [],
   "source": [
    "my_dict = {'key1':'value','key2':'value2'}"
   ]
  },
  {
   "cell_type": "code",
   "execution_count": 2,
   "id": "a2143356",
   "metadata": {},
   "outputs": [
    {
     "data": {
      "text/plain": [
       "{'key1': 'value', 'key2': 'value2'}"
      ]
     },
     "execution_count": 2,
     "metadata": {},
     "output_type": "execute_result"
    }
   ],
   "source": [
    "my_dict"
   ]
  },
  {
   "cell_type": "code",
   "execution_count": 3,
   "id": "99ce5440",
   "metadata": {},
   "outputs": [
    {
     "data": {
      "text/plain": [
       "'value2'"
      ]
     },
     "execution_count": 3,
     "metadata": {},
     "output_type": "execute_result"
    }
   ],
   "source": [
    "#call values by there key\n",
    "my_dict['key2']"
   ]
  },
  {
   "cell_type": "markdown",
   "id": "b8a387a4",
   "metadata": {},
   "source": [
    "Notice that dictionaries are very flexible in the data types they can hold. For example:"
   ]
  },
  {
   "cell_type": "code",
   "execution_count": 4,
   "id": "b2c2c4f0",
   "metadata": {},
   "outputs": [
    {
     "data": {
      "text/plain": [
       "[78, 85, 95]"
      ]
     },
     "execution_count": 4,
     "metadata": {},
     "output_type": "execute_result"
    }
   ],
   "source": [
    "my_dict = {'roll_number':123,'marks':[78,85,95],'subject':['computer','science','maths']}\n",
    "my_dict['subject']\n",
    "my_dict['marks']"
   ]
  },
  {
   "cell_type": "code",
   "execution_count": 5,
   "id": "37d62182",
   "metadata": {},
   "outputs": [
    {
     "data": {
      "text/plain": [
       "['computer', 'science', 'maths']"
      ]
     },
     "execution_count": 5,
     "metadata": {},
     "output_type": "execute_result"
    }
   ],
   "source": [
    "my_dict['subject']"
   ]
  },
  {
   "cell_type": "code",
   "execution_count": 6,
   "id": "8633f39a",
   "metadata": {},
   "outputs": [],
   "source": [
    "my_dict['marks'][0] = my_dict['marks'][0]+15"
   ]
  },
  {
   "cell_type": "code",
   "execution_count": 7,
   "id": "676a216b",
   "metadata": {},
   "outputs": [
    {
     "data": {
      "text/plain": [
       "{'roll_number': 123,\n",
       " 'marks': [93, 85, 95],\n",
       " 'subject': ['computer', 'science', 'maths']}"
      ]
     },
     "execution_count": 7,
     "metadata": {},
     "output_type": "execute_result"
    }
   ],
   "source": [
    "my_dict"
   ]
  },
  {
   "cell_type": "code",
   "execution_count": 8,
   "id": "b5b074ac",
   "metadata": {},
   "outputs": [
    {
     "data": {
      "text/plain": [
       "'COMPUTER'"
      ]
     },
     "execution_count": 8,
     "metadata": {},
     "output_type": "execute_result"
    }
   ],
   "source": [
    "my_dict['subject'][0].upper()"
   ]
  },
  {
   "cell_type": "code",
   "execution_count": 9,
   "id": "ff014934",
   "metadata": {},
   "outputs": [],
   "source": [
    "my_dict['marks'][1] += 10"
   ]
  },
  {
   "cell_type": "code",
   "execution_count": 10,
   "id": "fda389e6",
   "metadata": {},
   "outputs": [
    {
     "data": {
      "text/plain": [
       "{'roll_number': 123,\n",
       " 'marks': [93, 95, 95],\n",
       " 'subject': ['computer', 'science', 'maths']}"
      ]
     },
     "execution_count": 10,
     "metadata": {},
     "output_type": "execute_result"
    }
   ],
   "source": [
    "my_dict"
   ]
  },
  {
   "cell_type": "code",
   "execution_count": 11,
   "id": "fa7ca189",
   "metadata": {},
   "outputs": [
    {
     "data": {
      "text/plain": [
       "[93, 95, 95]"
      ]
     },
     "execution_count": 11,
     "metadata": {},
     "output_type": "execute_result"
    }
   ],
   "source": [
    "my_dict['marks']"
   ]
  },
  {
   "cell_type": "code",
   "execution_count": 12,
   "id": "ae759675",
   "metadata": {},
   "outputs": [
    {
     "data": {
      "text/plain": [
       "{'roll_number': 123,\n",
       " 'marks': [93, 95, 95],\n",
       " 'subject': ['computer', 'science', 'maths'],\n",
       " 'year': '3rd'}"
      ]
     },
     "execution_count": 12,
     "metadata": {},
     "output_type": "execute_result"
    }
   ],
   "source": [
    "my_dict['year'] = '3rd'\n",
    "my_dict"
   ]
  },
  {
   "cell_type": "code",
   "execution_count": 13,
   "id": "5a5d7d7c",
   "metadata": {},
   "outputs": [
    {
     "data": {
      "text/plain": [
       "{'roll_number': 100,\n",
       " 'marks': [93, 95, 95],\n",
       " 'subject': ['computer', 'science', 'maths'],\n",
       " 'year': '3rd'}"
      ]
     },
     "execution_count": 13,
     "metadata": {},
     "output_type": "execute_result"
    }
   ],
   "source": [
    "my_dict.update({'roll_number' : 100})\n",
    "my_dict"
   ]
  },
  {
   "cell_type": "code",
   "execution_count": 14,
   "id": "62fa587d",
   "metadata": {},
   "outputs": [
    {
     "data": {
      "text/plain": [
       "dict_keys(['roll_number', 'marks', 'subject', 'year'])"
      ]
     },
     "execution_count": 14,
     "metadata": {},
     "output_type": "execute_result"
    }
   ],
   "source": [
    "my_dict.keys()"
   ]
  },
  {
   "cell_type": "code",
   "execution_count": 15,
   "id": "0d81ee9f",
   "metadata": {},
   "outputs": [
    {
     "data": {
      "text/plain": [
       "dict_values([100, [93, 95, 95], ['computer', 'science', 'maths'], '3rd'])"
      ]
     },
     "execution_count": 15,
     "metadata": {},
     "output_type": "execute_result"
    }
   ],
   "source": [
    "my_dict.values()"
   ]
  },
  {
   "cell_type": "code",
   "execution_count": 16,
   "id": "57c7bf5d",
   "metadata": {},
   "outputs": [
    {
     "data": {
      "text/plain": [
       "dict_items([('roll_number', 100), ('marks', [93, 95, 95]), ('subject', ['computer', 'science', 'maths']), ('year', '3rd')])"
      ]
     },
     "execution_count": 16,
     "metadata": {},
     "output_type": "execute_result"
    }
   ],
   "source": [
    "my_dict.items()"
   ]
  },
  {
   "cell_type": "code",
   "execution_count": 17,
   "id": "9e0af312",
   "metadata": {},
   "outputs": [
    {
     "data": {
      "text/plain": [
       "{'roll_number': 100,\n",
       " 'marks': [93, 95, 95],\n",
       " 'subject': ['computer', 'science', 'maths'],\n",
       " 'year': '3rd'}"
      ]
     },
     "execution_count": 17,
     "metadata": {},
     "output_type": "execute_result"
    }
   ],
   "source": [
    "my_dict.copy()"
   ]
  },
  {
   "cell_type": "markdown",
   "id": "56d07401",
   "metadata": {},
   "source": [
    "# End of Dictionaries"
   ]
  },
  {
   "cell_type": "code",
   "execution_count": 18,
   "id": "a3afa6f2",
   "metadata": {},
   "outputs": [],
   "source": [
    "captains={}"
   ]
  },
  {
   "cell_type": "code",
   "execution_count": 23,
   "id": "3cfdd3fa",
   "metadata": {},
   "outputs": [
    {
     "data": {
      "text/plain": [
       "{'Enterprise': 'Picard', 'Voyager': 'Janeway', 'Defiant': 'Sisko'}"
      ]
     },
     "execution_count": 23,
     "metadata": {},
     "output_type": "execute_result"
    }
   ],
   "source": [
    "captains"
   ]
  },
  {
   "cell_type": "code",
   "execution_count": 19,
   "id": "d6df59cc",
   "metadata": {},
   "outputs": [],
   "source": [
    "captains = {dict}\n"
   ]
  },
  {
   "cell_type": "code",
   "execution_count": 33,
   "id": "41297e4c",
   "metadata": {},
   "outputs": [],
   "source": [
    " captains = {\n",
    " \"Enterprise\": \"Picard\",\n",
    " \"Voyager\": \"Janeway\",\n",
    " \"Defiant\": \"Sisko\",\n",
    " \"Discovery\": \"unknown\",\n",
    "}\n"
   ]
  },
  {
   "cell_type": "code",
   "execution_count": 34,
   "id": "6ef8a639",
   "metadata": {},
   "outputs": [
    {
     "name": "stdout",
     "output_type": "stream",
     "text": [
      "{'Enterprise': 'Picard', 'Voyager': 'Janeway', 'Defiant': 'Sisko', 'Discovery': 'unknown'}\n"
     ]
    }
   ],
   "source": [
    "print(captains)"
   ]
  },
  {
   "cell_type": "code",
   "execution_count": 24,
   "id": "f7ff93bf",
   "metadata": {},
   "outputs": [
    {
     "name": "stdout",
     "output_type": "stream",
     "text": [
      "The Picard is captained by Enterprise.\n",
      "The Janeway is captained by Voyager.\n",
      "The Sisko is captained by Defiant.\n"
     ]
    }
   ],
   "source": [
    " for captain, ship in captains.items():\n",
    "  print(f\"The {ship} is captained by {captain}.\")\n"
   ]
  },
  {
   "cell_type": "code",
   "execution_count": 27,
   "id": "20d02c5a",
   "metadata": {},
   "outputs": [
    {
     "name": "stdout",
     "output_type": "stream",
     "text": [
      "The [ship] is captained by [captain].\n",
      "The [ship] is captained by [captain].\n",
      "The [ship] is captained by [captain].\n"
     ]
    }
   ],
   "source": [
    " for item in captains.items():\n",
    "  print(f\"The [ship] is captained by [captain].\")"
   ]
  },
  {
   "cell_type": "code",
   "execution_count": 26,
   "id": "810d5ef8",
   "metadata": {},
   "outputs": [
    {
     "name": "stdout",
     "output_type": "stream",
     "text": [
      "The Enterprise is captained by Picard.\n",
      "The Voyager is captained by Janeway.\n",
      "The Defiant is captained by Sisko.\n"
     ]
    }
   ],
   "source": [
    "for ship, captain in captains.items():\n",
    " print(f\"The {ship} is captained by {captain}.\")\n"
   ]
  },
  {
   "cell_type": "code",
   "execution_count": 28,
   "id": "f655e337",
   "metadata": {},
   "outputs": [
    {
     "name": "stdout",
     "output_type": "stream",
     "text": [
      "Enterprise {'Enterprise': 'Picard', 'Voyager': 'Janeway', 'Defiant': 'Sisko'}\n",
      "Voyager {'Enterprise': 'Picard', 'Voyager': 'Janeway', 'Defiant': 'Sisko'}\n",
      "Defiant {'Enterprise': 'Picard', 'Voyager': 'Janeway', 'Defiant': 'Sisko'}\n"
     ]
    }
   ],
   "source": [
    "for ship in captains:\n",
    " print(ship, captains)\n"
   ]
  },
  {
   "cell_type": "code",
   "execution_count": 31,
   "id": "140e9778",
   "metadata": {},
   "outputs": [
    {
     "name": "stdout",
     "output_type": "stream",
     "text": [
      "Enterprise Picard\n",
      "Voyager Janeway\n",
      "Defiant Sisko\n"
     ]
    }
   ],
   "source": [
    "for ship in captains:\n",
    " print(ship, captains[ship])\n"
   ]
  },
  {
   "cell_type": "code",
   "execution_count": 32,
   "id": "69b17586",
   "metadata": {},
   "outputs": [
    {
     "name": "stdout",
     "output_type": "stream",
     "text": [
      "Enterprise Picard\n",
      "Voyager Janeway\n",
      "Defiant Sisko\n"
     ]
    }
   ],
   "source": [
    "for ship, captain in captains.items():\n",
    " print(ship, captain)"
   ]
  },
  {
   "cell_type": "code",
   "execution_count": 36,
   "id": "93d96049",
   "metadata": {},
   "outputs": [],
   "source": [
    "del captains[\"Discovery\"]\n"
   ]
  },
  {
   "cell_type": "code",
   "execution_count": 37,
   "id": "05ce4a67",
   "metadata": {},
   "outputs": [
    {
     "name": "stdout",
     "output_type": "stream",
     "text": [
      "{'Enterprise': 'Picard', 'Voyager': 'Janeway', 'Defiant': 'Sisko'}\n"
     ]
    }
   ],
   "source": [
    "print(captains)"
   ]
  },
  {
   "cell_type": "code",
   "execution_count": 41,
   "id": "92f62a19",
   "metadata": {},
   "outputs": [
    {
     "name": "stdout",
     "output_type": "stream",
     "text": [
      "208\n"
     ]
    }
   ],
   "source": [
    "print(4**3 + (7 + 5)**(1 + 1))"
   ]
  },
  {
   "cell_type": "code",
   "execution_count": 43,
   "id": "83875056",
   "metadata": {},
   "outputs": [
    {
     "ename": "TypeError",
     "evalue": "unsupported operand type(s) for +: 'set' and 'set'",
     "output_type": "error",
     "traceback": [
      "\u001b[1;31m---------------------------------------------------------------------------\u001b[0m",
      "\u001b[1;31mTypeError\u001b[0m                                 Traceback (most recent call last)",
      "Input \u001b[1;32mIn [43]\u001b[0m, in \u001b[0;36m<cell line: 4>\u001b[1;34m()\u001b[0m\n\u001b[0;32m      2\u001b[0m set2 \u001b[38;5;241m=\u001b[39m {\u001b[38;5;241m82\u001b[39m, \u001b[38;5;241m49\u001b[39m, \u001b[38;5;241m62\u001b[39m}\n\u001b[0;32m      3\u001b[0m set3 \u001b[38;5;241m=\u001b[39m{\u001b[38;5;241m99\u001b[39m,\u001b[38;5;241m22\u001b[39m,\u001b[38;5;241m17\u001b[39m}\n\u001b[1;32m----> 4\u001b[0m \u001b[38;5;28mprint\u001b[39m(\u001b[38;5;28mlen\u001b[39m(\u001b[43mset1\u001b[49m\u001b[43m \u001b[49m\u001b[38;5;241;43m+\u001b[39;49m\u001b[43m \u001b[49m\u001b[43mset2\u001b[49m \u001b[38;5;241m+\u001b[39m set3))\n",
      "\u001b[1;31mTypeError\u001b[0m: unsupported operand type(s) for +: 'set' and 'set'"
     ]
    }
   ],
   "source": [
    "set1 = {14, 3, 55}\n",
    "set2 = {82, 49, 62}\n",
    "set3 ={99,22,17}\n",
    "print(len(set1 + set2 + set3))"
   ]
  },
  {
   "cell_type": "code",
   "execution_count": 44,
   "id": "c834ac4b",
   "metadata": {},
   "outputs": [
    {
     "name": "stdout",
     "output_type": "stream",
     "text": [
      "<class 'filter'>\n"
     ]
    }
   ],
   "source": [
    " numbers = (4, 7, 19, 2, 89, 45, 72, 22)\n",
    "sorted_numbers = sorted(numbers)\n",
    "even = lambda a: a % 2 == 0\n",
    "even_numbers = filter(even, sorted_numbers)\n",
    "print(type(even_numbers))"
   ]
  },
  {
   "cell_type": "code",
   "execution_count": 45,
   "id": "64f3e066",
   "metadata": {},
   "outputs": [
    {
     "name": "stdout",
     "output_type": "stream",
     "text": [
      "15\n"
     ]
    }
   ],
   "source": [
    "def func(a, b):\n",
    " return b if a == 0 else func(b % a, a)\n",
    "print(func(30, 75))\n"
   ]
  },
  {
   "cell_type": "code",
   "execution_count": null,
   "id": "17d9952f",
   "metadata": {},
   "outputs": [],
   "source": []
  }
 ],
 "metadata": {
  "kernelspec": {
   "display_name": "Python 3 (ipykernel)",
   "language": "python",
   "name": "python3"
  },
  "language_info": {
   "codemirror_mode": {
    "name": "ipython",
    "version": 3
   },
   "file_extension": ".py",
   "mimetype": "text/x-python",
   "name": "python",
   "nbconvert_exporter": "python",
   "pygments_lexer": "ipython3",
   "version": "3.9.12"
  }
 },
 "nbformat": 4,
 "nbformat_minor": 5
}
